{
 "cells": [
  {
   "cell_type": "code",
   "execution_count": 1,
   "id": "93da2a1b-31f8-4f77-96f8-de59d554f39d",
   "metadata": {},
   "outputs": [],
   "source": [
    "import pandas as pd \n",
    "import numpy as np"
   ]
  },
  {
   "cell_type": "code",
   "execution_count": 77,
   "id": "ad126a95-0e7d-4ba8-982f-546dd469dedf",
   "metadata": {
    "scrolled": true
   },
   "outputs": [
    {
     "name": "stdout",
     "output_type": "stream",
     "text": [
      "[1, 2, 3]\n"
     ]
    }
   ],
   "source": [
    "#Con este programa se verificarán elementos de entrada en forma de matriz cuadrada y se definirá si estos conforman un grupo.\n",
    "tabla = [ [1, 2, 3,],          #Introducción de la tabla\n",
    "          [2, 3, 1,],\n",
    "          [3, 1, 2,]\n",
    "        ]\n",
    "g = [1,2,3] #Aqí se definen los elementos pertenecientes al conjunto \n",
    "print (g)\n"
   ]
  },
  {
   "cell_type": "code",
   "execution_count": 78,
   "id": "7cd86944-19d1-47f6-9b70-093611380c20",
   "metadata": {},
   "outputs": [],
   "source": [
    "#Comprobar si la tabla es cerrada al conjunto de elementos \n",
    "n=len(tabla)\n",
    "for i in range(n):\n",
    "    a = list(set(tabla[i]))\n",
    "    if a!= g: #Identifica si la tabla no es cerrada \n",
    "        print('No es un cuadrado latino')\n",
    "        break\n",
    "\n",
    "    b = tabla[i]\n",
    "    if len(a) != len (b) or len(tabla) != len(tabla[0]):#Identifica si existen valores duplicados en las filas \n",
    "        print ('No es un cuadrado latino')\n",
    "        break"
   ]
  },
  {
   "cell_type": "code",
   "execution_count": 79,
   "id": "e713d66d-bfee-4734-9ccd-7e75c364d469",
   "metadata": {},
   "outputs": [],
   "source": [
    "#Se verifica la asociatividad con respecto a la suma\n",
    "for i in range(n):             \n",
    "    for j in range(n):\n",
    "        for k in range(n):\n",
    "            for l in range(n): #Ciclos anidados que operan sobre las posiciones de los elementos\n",
    "                if (tabla[i][j] + tabla[j][k]) + tabla[k][l] != tabla[i][j] + (tabla[j][k] + tabla[k][l]):\n",
    "                    print (False)"
   ]
  },
  {
   "cell_type": "code",
   "execution_count": 80,
   "id": "126d146e-47cb-4733-b8c3-0b2139c303d7",
   "metadata": {
    "scrolled": true
   },
   "outputs": [
    {
     "name": "stdout",
     "output_type": "stream",
     "text": [
      "[[1, 2, 3], [2, 3, 1], [3, 1, 2]]\n"
     ]
    }
   ],
   "source": [
    "#Organizar de manera que la identidad quede en la parte superior de la tabla\n",
    "if tabla[0] != g: \n",
    "    for i in range(len(tabla)):\n",
    "        if tabla[i] == g:\n",
    "            a = tabla[0]\n",
    "            print(tabla[0],tabla[i])\n",
    "            tabla[0] = tabla[i]\n",
    "            tabla[i] = a\n",
    "            break\n",
    "print (tabla)    "
   ]
  },
  {
   "cell_type": "code",
   "execution_count": 81,
   "id": "43a90b0d-3e17-4ea0-978a-c3c0ade30b00",
   "metadata": {},
   "outputs": [],
   "source": [
    "tabla = [] #comprobar que existe inverso\n",
    "for i in range(len(tabla)):\n",
    "               \n",
    "    tabla.append(0)\n",
    "\n",
    "for i in range(len(tabla)):\n",
    "    if(tabla[i][i] == tabla[0][0]):\n",
    "        tabla[i] = tabla[i]\n",
    "    else:\n",
    "        for j in range(len(tabla)):\n",
    "            if tabla[i][j] == tabla[0][0]:\n",
    "                tabla[j] = tabla[i]\n",
    "                    \n",
    "if 0 in tabla:\n",
    "    print('no existe inverso')\n",
    "    "
   ]
  },
  {
   "cell_type": "code",
   "execution_count": null,
   "id": "bb337564",
   "metadata": {},
   "outputs": [],
   "source": []
  },
  {
   "cell_type": "code",
   "execution_count": null,
   "id": "98043f6e",
   "metadata": {},
   "outputs": [],
   "source": []
  },
  {
   "cell_type": "code",
   "execution_count": null,
   "id": "1d4de0d5",
   "metadata": {},
   "outputs": [],
   "source": []
  },
  {
   "cell_type": "code",
   "execution_count": null,
   "id": "63abe5cf",
   "metadata": {},
   "outputs": [],
   "source": []
  },
  {
   "cell_type": "code",
   "execution_count": null,
   "id": "faa75f3e",
   "metadata": {},
   "outputs": [],
   "source": []
  }
 ],
 "metadata": {
  "kernelspec": {
   "display_name": "Python 3 (ipykernel)",
   "language": "python",
   "name": "python3"
  },
  "language_info": {
   "codemirror_mode": {
    "name": "ipython",
    "version": 3
   },
   "file_extension": ".py",
   "mimetype": "text/x-python",
   "name": "python",
   "nbconvert_exporter": "python",
   "pygments_lexer": "ipython3",
   "version": "3.9.6"
  }
 },
 "nbformat": 4,
 "nbformat_minor": 5
}
